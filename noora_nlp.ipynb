{
 "cells": [
  {
   "cell_type": "markdown",
   "metadata": {},
   "source": [
    "# S&P500\n",
    "\n",
    "\n",
    "https://medium.com/mlearning-ai/predict-sp500-stock-price-with-python-machine-learning-sentiment-analysis-a296dc276353\n",
    "\n",
    "https://www.kaggle.com/datasets/miguelaenlle/massive-stock-news-analysis-db-for-nlpbacktests"
   ]
  },
  {
   "cell_type": "code",
   "execution_count": 1,
   "metadata": {},
   "outputs": [],
   "source": [
    "import pandas as pd\n"
   ]
  },
  {
   "cell_type": "code",
   "execution_count": 2,
   "metadata": {},
   "outputs": [],
   "source": [
    "#Upload Dataset\n",
    "\"\"\"Columns go as follows: article title, date, stock\n",
    "Timezone is UTC-4. The difference between this and raw_analyst_headlines is that this has exact dates to the minute vs. raw_analyst_ratings \n",
    "which is only the day without hour or minutes.\"\"\"\n",
    "\n",
    "df = pd.read_csv('Dataset/analyst_ratings_processed.csv', index_col=0)"
   ]
  },
  {
   "cell_type": "code",
   "execution_count": 3,
   "metadata": {},
   "outputs": [
    {
     "data": {
      "text/html": [
       "<div>\n",
       "<style scoped>\n",
       "    .dataframe tbody tr th:only-of-type {\n",
       "        vertical-align: middle;\n",
       "    }\n",
       "\n",
       "    .dataframe tbody tr th {\n",
       "        vertical-align: top;\n",
       "    }\n",
       "\n",
       "    .dataframe thead th {\n",
       "        text-align: right;\n",
       "    }\n",
       "</style>\n",
       "<table border=\"1\" class=\"dataframe\">\n",
       "  <thead>\n",
       "    <tr style=\"text-align: right;\">\n",
       "      <th></th>\n",
       "      <th>title</th>\n",
       "      <th>date</th>\n",
       "      <th>stock</th>\n",
       "    </tr>\n",
       "  </thead>\n",
       "  <tbody>\n",
       "    <tr>\n",
       "      <th>0.0</th>\n",
       "      <td>Stocks That Hit 52-Week Highs On Friday</td>\n",
       "      <td>2020-06-05 10:30:00-04:00</td>\n",
       "      <td>A</td>\n",
       "    </tr>\n",
       "    <tr>\n",
       "      <th>1.0</th>\n",
       "      <td>Stocks That Hit 52-Week Highs On Wednesday</td>\n",
       "      <td>2020-06-03 10:45:00-04:00</td>\n",
       "      <td>A</td>\n",
       "    </tr>\n",
       "    <tr>\n",
       "      <th>2.0</th>\n",
       "      <td>71 Biggest Movers From Friday</td>\n",
       "      <td>2020-05-26 04:30:00-04:00</td>\n",
       "      <td>A</td>\n",
       "    </tr>\n",
       "    <tr>\n",
       "      <th>3.0</th>\n",
       "      <td>46 Stocks Moving In Friday's Mid-Day Session</td>\n",
       "      <td>2020-05-22 12:45:00-04:00</td>\n",
       "      <td>A</td>\n",
       "    </tr>\n",
       "    <tr>\n",
       "      <th>4.0</th>\n",
       "      <td>B of A Securities Maintains Neutral on Agilent...</td>\n",
       "      <td>2020-05-22 11:38:00-04:00</td>\n",
       "      <td>A</td>\n",
       "    </tr>\n",
       "    <tr>\n",
       "      <th>5.0</th>\n",
       "      <td>CFRA Maintains Hold on Agilent Technologies, L...</td>\n",
       "      <td>2020-05-22 11:23:00-04:00</td>\n",
       "      <td>A</td>\n",
       "    </tr>\n",
       "    <tr>\n",
       "      <th>6.0</th>\n",
       "      <td>UBS Maintains Neutral on Agilent Technologies,...</td>\n",
       "      <td>2020-05-22 09:36:00-04:00</td>\n",
       "      <td>A</td>\n",
       "    </tr>\n",
       "    <tr>\n",
       "      <th>7.0</th>\n",
       "      <td>Agilent Technologies shares are trading higher...</td>\n",
       "      <td>2020-05-22 09:07:00-04:00</td>\n",
       "      <td>A</td>\n",
       "    </tr>\n",
       "    <tr>\n",
       "      <th>8.0</th>\n",
       "      <td>Wells Fargo Maintains Overweight on Agilent Te...</td>\n",
       "      <td>2020-05-22 08:37:00-04:00</td>\n",
       "      <td>A</td>\n",
       "    </tr>\n",
       "    <tr>\n",
       "      <th>9.0</th>\n",
       "      <td>10 Biggest Price Target Changes For Friday</td>\n",
       "      <td>2020-05-22 08:06:00-04:00</td>\n",
       "      <td>A</td>\n",
       "    </tr>\n",
       "  </tbody>\n",
       "</table>\n",
       "</div>"
      ],
      "text/plain": [
       "                                                 title  \\\n",
       "0.0            Stocks That Hit 52-Week Highs On Friday   \n",
       "1.0         Stocks That Hit 52-Week Highs On Wednesday   \n",
       "2.0                      71 Biggest Movers From Friday   \n",
       "3.0       46 Stocks Moving In Friday's Mid-Day Session   \n",
       "4.0  B of A Securities Maintains Neutral on Agilent...   \n",
       "5.0  CFRA Maintains Hold on Agilent Technologies, L...   \n",
       "6.0  UBS Maintains Neutral on Agilent Technologies,...   \n",
       "7.0  Agilent Technologies shares are trading higher...   \n",
       "8.0  Wells Fargo Maintains Overweight on Agilent Te...   \n",
       "9.0         10 Biggest Price Target Changes For Friday   \n",
       "\n",
       "                          date stock  \n",
       "0.0  2020-06-05 10:30:00-04:00     A  \n",
       "1.0  2020-06-03 10:45:00-04:00     A  \n",
       "2.0  2020-05-26 04:30:00-04:00     A  \n",
       "3.0  2020-05-22 12:45:00-04:00     A  \n",
       "4.0  2020-05-22 11:38:00-04:00     A  \n",
       "5.0  2020-05-22 11:23:00-04:00     A  \n",
       "6.0  2020-05-22 09:36:00-04:00     A  \n",
       "7.0  2020-05-22 09:07:00-04:00     A  \n",
       "8.0  2020-05-22 08:37:00-04:00     A  \n",
       "9.0  2020-05-22 08:06:00-04:00     A  "
      ]
     },
     "execution_count": 3,
     "metadata": {},
     "output_type": "execute_result"
    }
   ],
   "source": [
    "df.head(10)"
   ]
  },
  {
   "cell_type": "code",
   "execution_count": 4,
   "metadata": {},
   "outputs": [
    {
     "data": {
      "text/plain": [
       "(1400469, 3)"
      ]
     },
     "execution_count": 4,
     "metadata": {},
     "output_type": "execute_result"
    }
   ],
   "source": [
    "df.shape"
   ]
  },
  {
   "cell_type": "code",
   "execution_count": 5,
   "metadata": {},
   "outputs": [
    {
     "name": "stdout",
     "output_type": "stream",
     "text": [
      "<class 'pandas.core.frame.DataFrame'>\n",
      "Index: 1400469 entries, 0.0 to 1413848.0\n",
      "Data columns (total 3 columns):\n",
      " #   Column  Non-Null Count    Dtype \n",
      "---  ------  --------------    ----- \n",
      " 0   title   1400469 non-null  object\n",
      " 1   date    1399180 non-null  object\n",
      " 2   stock   1397891 non-null  object\n",
      "dtypes: object(3)\n",
      "memory usage: 42.7+ MB\n"
     ]
    }
   ],
   "source": [
    "df.info()"
   ]
  },
  {
   "cell_type": "code",
   "execution_count": 6,
   "metadata": {},
   "outputs": [
    {
     "data": {
      "text/plain": [
       "stock    0.184081\n",
       "date     0.092041\n",
       "title    0.000000\n",
       "dtype: float64"
      ]
     },
     "execution_count": 6,
     "metadata": {},
     "output_type": "execute_result"
    }
   ],
   "source": [
    "df.isnull().sum().sort_values(ascending=False)/len(df)*100"
   ]
  },
  {
   "cell_type": "code",
   "execution_count": 7,
   "metadata": {},
   "outputs": [],
   "source": [
    "\"\"\"Data Cleaning\n",
    "Removing Null row as low percentage\"\"\"\n",
    "\n",
    "data = df.dropna()"
   ]
  },
  {
   "cell_type": "code",
   "execution_count": 8,
   "metadata": {},
   "outputs": [
    {
     "name": "stdout",
     "output_type": "stream",
     "text": [
      "<class 'pandas.core.frame.DataFrame'>\n",
      "Index: 1397891 entries, 0.0 to 1413848.0\n",
      "Data columns (total 3 columns):\n",
      " #   Column  Non-Null Count    Dtype \n",
      "---  ------  --------------    ----- \n",
      " 0   title   1397891 non-null  object\n",
      " 1   date    1397891 non-null  object\n",
      " 2   stock   1397891 non-null  object\n",
      "dtypes: object(3)\n",
      "memory usage: 42.7+ MB\n"
     ]
    }
   ],
   "source": [
    "data.info()"
   ]
  },
  {
   "cell_type": "code",
   "execution_count": 11,
   "metadata": {},
   "outputs": [
    {
     "name": "stderr",
     "output_type": "stream",
     "text": [
      "/tmp/ipykernel_31179/2650720732.py:6: SettingWithCopyWarning: \n",
      "A value is trying to be set on a copy of a slice from a DataFrame.\n",
      "Try using .loc[row_indexer,col_indexer] = value instead\n",
      "\n",
      "See the caveats in the documentation: https://pandas.pydata.org/pandas-docs/stable/user_guide/indexing.html#returning-a-view-versus-a-copy\n",
      "  data['date'] = pd.to_datetime(data['date'].map(lambda x: str(x)[:-15]))\n"
     ]
    }
   ],
   "source": [
    "\"\"\" Stripping redundant info and\n",
    "    Converting to datetime format\n",
    "\"\"\"\n",
    "\n",
    "\n",
    "data['date'] = pd.to_datetime(data['date'].map(lambda x: str(x)[:-15]))"
   ]
  },
  {
   "cell_type": "code",
   "execution_count": 12,
   "metadata": {},
   "outputs": [
    {
     "data": {
      "text/html": [
       "<div>\n",
       "<style scoped>\n",
       "    .dataframe tbody tr th:only-of-type {\n",
       "        vertical-align: middle;\n",
       "    }\n",
       "\n",
       "    .dataframe tbody tr th {\n",
       "        vertical-align: top;\n",
       "    }\n",
       "\n",
       "    .dataframe thead th {\n",
       "        text-align: right;\n",
       "    }\n",
       "</style>\n",
       "<table border=\"1\" class=\"dataframe\">\n",
       "  <thead>\n",
       "    <tr style=\"text-align: right;\">\n",
       "      <th></th>\n",
       "      <th>title</th>\n",
       "      <th>date</th>\n",
       "      <th>stock</th>\n",
       "    </tr>\n",
       "  </thead>\n",
       "  <tbody>\n",
       "    <tr>\n",
       "      <th>0.0</th>\n",
       "      <td>Stocks That Hit 52-Week Highs On Friday</td>\n",
       "      <td>2020-01-01</td>\n",
       "      <td>A</td>\n",
       "    </tr>\n",
       "    <tr>\n",
       "      <th>1.0</th>\n",
       "      <td>Stocks That Hit 52-Week Highs On Wednesday</td>\n",
       "      <td>2020-01-01</td>\n",
       "      <td>A</td>\n",
       "    </tr>\n",
       "    <tr>\n",
       "      <th>2.0</th>\n",
       "      <td>71 Biggest Movers From Friday</td>\n",
       "      <td>2020-01-01</td>\n",
       "      <td>A</td>\n",
       "    </tr>\n",
       "    <tr>\n",
       "      <th>3.0</th>\n",
       "      <td>46 Stocks Moving In Friday's Mid-Day Session</td>\n",
       "      <td>2020-01-01</td>\n",
       "      <td>A</td>\n",
       "    </tr>\n",
       "    <tr>\n",
       "      <th>4.0</th>\n",
       "      <td>B of A Securities Maintains Neutral on Agilent...</td>\n",
       "      <td>2020-01-01</td>\n",
       "      <td>A</td>\n",
       "    </tr>\n",
       "  </tbody>\n",
       "</table>\n",
       "</div>"
      ],
      "text/plain": [
       "                                                 title       date stock\n",
       "0.0            Stocks That Hit 52-Week Highs On Friday 2020-01-01     A\n",
       "1.0         Stocks That Hit 52-Week Highs On Wednesday 2020-01-01     A\n",
       "2.0                      71 Biggest Movers From Friday 2020-01-01     A\n",
       "3.0       46 Stocks Moving In Friday's Mid-Day Session 2020-01-01     A\n",
       "4.0  B of A Securities Maintains Neutral on Agilent... 2020-01-01     A"
      ]
     },
     "execution_count": 12,
     "metadata": {},
     "output_type": "execute_result"
    }
   ],
   "source": [
    "data.head()"
   ]
  },
  {
   "cell_type": "code",
   "execution_count": 13,
   "metadata": {},
   "outputs": [
    {
     "name": "stdout",
     "output_type": "stream",
     "text": [
      "<class 'pandas.core.frame.DataFrame'>\n",
      "Index: 1397891 entries, 0.0 to 1413848.0\n",
      "Data columns (total 3 columns):\n",
      " #   Column  Non-Null Count    Dtype         \n",
      "---  ------  --------------    -----         \n",
      " 0   title   1397891 non-null  object        \n",
      " 1   date    1397891 non-null  datetime64[ns]\n",
      " 2   stock   1397891 non-null  object        \n",
      "dtypes: datetime64[ns](1), object(2)\n",
      "memory usage: 42.7+ MB\n"
     ]
    }
   ],
   "source": [
    "data.info()"
   ]
  },
  {
   "cell_type": "code",
   "execution_count": 15,
   "metadata": {},
   "outputs": [],
   "source": [
    "\"\"\" Dropping rows with date before 2018\n",
    "    as Financial statement information \n",
    "    available from 2018-2023\n",
    "\"\"\"\n",
    "\n",
    "data = data.drop(data[data['date']<pd.to_datetime(\"2018-01-01\")].index)"
   ]
  },
  {
   "cell_type": "code",
   "execution_count": 16,
   "metadata": {},
   "outputs": [
    {
     "data": {
      "text/html": [
       "<div>\n",
       "<style scoped>\n",
       "    .dataframe tbody tr th:only-of-type {\n",
       "        vertical-align: middle;\n",
       "    }\n",
       "\n",
       "    .dataframe tbody tr th {\n",
       "        vertical-align: top;\n",
       "    }\n",
       "\n",
       "    .dataframe thead th {\n",
       "        text-align: right;\n",
       "    }\n",
       "</style>\n",
       "<table border=\"1\" class=\"dataframe\">\n",
       "  <thead>\n",
       "    <tr style=\"text-align: right;\">\n",
       "      <th></th>\n",
       "      <th>title</th>\n",
       "      <th>date</th>\n",
       "      <th>stock</th>\n",
       "    </tr>\n",
       "  </thead>\n",
       "  <tbody>\n",
       "    <tr>\n",
       "      <th>1413783.0</th>\n",
       "      <td>China Zenix Auto Shares Halted News Pending</td>\n",
       "      <td>2018-01-01</td>\n",
       "      <td>ZX</td>\n",
       "    </tr>\n",
       "    <tr>\n",
       "      <th>1413784.0</th>\n",
       "      <td>China Zenix Auto Q1 EPS $0.08, Made $130.123M ...</td>\n",
       "      <td>2018-01-01</td>\n",
       "      <td>ZX</td>\n",
       "    </tr>\n",
       "    <tr>\n",
       "      <th>1413785.0</th>\n",
       "      <td>China Zenix Auto Reports Q4 EPS $0.03, Sales $...</td>\n",
       "      <td>2018-01-01</td>\n",
       "      <td>ZX</td>\n",
       "    </tr>\n",
       "    <tr>\n",
       "      <th>1413786.0</th>\n",
       "      <td>UPDATE: Not Seeing News In Chinese Momentum St...</td>\n",
       "      <td>2018-01-01</td>\n",
       "      <td>ZX</td>\n",
       "    </tr>\n",
       "    <tr>\n",
       "      <th>1413787.0</th>\n",
       "      <td>Chinese Nano-Cap Momentum Stocks Sharply Highe...</td>\n",
       "      <td>2018-01-01</td>\n",
       "      <td>ZX</td>\n",
       "    </tr>\n",
       "  </tbody>\n",
       "</table>\n",
       "</div>"
      ],
      "text/plain": [
       "                                                       title       date stock\n",
       "1413783.0        China Zenix Auto Shares Halted News Pending 2018-01-01    ZX\n",
       "1413784.0  China Zenix Auto Q1 EPS $0.08, Made $130.123M ... 2018-01-01    ZX\n",
       "1413785.0  China Zenix Auto Reports Q4 EPS $0.03, Sales $... 2018-01-01    ZX\n",
       "1413786.0  UPDATE: Not Seeing News In Chinese Momentum St... 2018-01-01    ZX\n",
       "1413787.0  Chinese Nano-Cap Momentum Stocks Sharply Highe... 2018-01-01    ZX"
      ]
     },
     "execution_count": 16,
     "metadata": {},
     "output_type": "execute_result"
    }
   ],
   "source": [
    "data.tail()"
   ]
  },
  {
   "cell_type": "code",
   "execution_count": 17,
   "metadata": {},
   "outputs": [
    {
     "data": {
      "text/plain": [
       "(402168, 3)"
      ]
     },
     "execution_count": 17,
     "metadata": {},
     "output_type": "execute_result"
    }
   ],
   "source": [
    "data.shape"
   ]
  },
  {
   "cell_type": "code",
   "execution_count": 22,
   "metadata": {},
   "outputs": [],
   "source": [
    "\"\"\" S&P 500 tickers with correlation to Financial Statement \n",
    "    Saved list to CSV\n",
    "\"\"\"\n",
    "\n",
    "tickers = pd.read_html('https://en.wikipedia.org/wiki/List_of_S%26P_500_companies')[0]\n",
    "tickers = tickers.Symbol.to_csv('Dataset/S_P 500.csv')"
   ]
  },
  {
   "cell_type": "code",
   "execution_count": 23,
   "metadata": {},
   "outputs": [],
   "source": [
    "tickers = pd.read_csv('Dataset/S_P 500.csv', index_col=0)"
   ]
  },
  {
   "cell_type": "code",
   "execution_count": 24,
   "metadata": {},
   "outputs": [
    {
     "data": {
      "text/html": [
       "<div>\n",
       "<style scoped>\n",
       "    .dataframe tbody tr th:only-of-type {\n",
       "        vertical-align: middle;\n",
       "    }\n",
       "\n",
       "    .dataframe tbody tr th {\n",
       "        vertical-align: top;\n",
       "    }\n",
       "\n",
       "    .dataframe thead th {\n",
       "        text-align: right;\n",
       "    }\n",
       "</style>\n",
       "<table border=\"1\" class=\"dataframe\">\n",
       "  <thead>\n",
       "    <tr style=\"text-align: right;\">\n",
       "      <th></th>\n",
       "      <th>stock</th>\n",
       "    </tr>\n",
       "  </thead>\n",
       "  <tbody>\n",
       "    <tr>\n",
       "      <th>0</th>\n",
       "      <td>MMM</td>\n",
       "    </tr>\n",
       "    <tr>\n",
       "      <th>1</th>\n",
       "      <td>AOS</td>\n",
       "    </tr>\n",
       "    <tr>\n",
       "      <th>2</th>\n",
       "      <td>ABT</td>\n",
       "    </tr>\n",
       "    <tr>\n",
       "      <th>3</th>\n",
       "      <td>ABBV</td>\n",
       "    </tr>\n",
       "    <tr>\n",
       "      <th>4</th>\n",
       "      <td>ACN</td>\n",
       "    </tr>\n",
       "    <tr>\n",
       "      <th>...</th>\n",
       "      <td>...</td>\n",
       "    </tr>\n",
       "    <tr>\n",
       "      <th>498</th>\n",
       "      <td>YUM</td>\n",
       "    </tr>\n",
       "    <tr>\n",
       "      <th>499</th>\n",
       "      <td>ZBRA</td>\n",
       "    </tr>\n",
       "    <tr>\n",
       "      <th>500</th>\n",
       "      <td>ZBH</td>\n",
       "    </tr>\n",
       "    <tr>\n",
       "      <th>501</th>\n",
       "      <td>ZION</td>\n",
       "    </tr>\n",
       "    <tr>\n",
       "      <th>502</th>\n",
       "      <td>ZTS</td>\n",
       "    </tr>\n",
       "  </tbody>\n",
       "</table>\n",
       "<p>503 rows × 1 columns</p>\n",
       "</div>"
      ],
      "text/plain": [
       "    stock\n",
       "0     MMM\n",
       "1     AOS\n",
       "2     ABT\n",
       "3    ABBV\n",
       "4     ACN\n",
       "..    ...\n",
       "498   YUM\n",
       "499  ZBRA\n",
       "500   ZBH\n",
       "501  ZION\n",
       "502   ZTS\n",
       "\n",
       "[503 rows x 1 columns]"
      ]
     },
     "execution_count": 24,
     "metadata": {},
     "output_type": "execute_result"
    }
   ],
   "source": [
    "\"\"\" Renaming the column to be similar with 'data' df\n",
    "\"\"\"\n",
    "\n",
    "tickers = tickers.rename(columns={'Symbol': 'stock'})\n",
    "\n",
    "tickers"
   ]
  },
  {
   "cell_type": "code",
   "execution_count": 29,
   "metadata": {},
   "outputs": [],
   "source": [
    "\"\"\" To filter out the S&P 500 stocks available on 'data' df \n",
    "\"\"\"\n",
    "\n",
    "SP500 = pd.merge(data,tickers, on=['stock'], how= 'left', indicator='Exist')"
   ]
  },
  {
   "cell_type": "code",
   "execution_count": 31,
   "metadata": {},
   "outputs": [
    {
     "data": {
      "text/html": [
       "<div>\n",
       "<style scoped>\n",
       "    .dataframe tbody tr th:only-of-type {\n",
       "        vertical-align: middle;\n",
       "    }\n",
       "\n",
       "    .dataframe tbody tr th {\n",
       "        vertical-align: top;\n",
       "    }\n",
       "\n",
       "    .dataframe thead th {\n",
       "        text-align: right;\n",
       "    }\n",
       "</style>\n",
       "<table border=\"1\" class=\"dataframe\">\n",
       "  <thead>\n",
       "    <tr style=\"text-align: right;\">\n",
       "      <th></th>\n",
       "      <th>title</th>\n",
       "      <th>date</th>\n",
       "      <th>stock</th>\n",
       "      <th>Exist</th>\n",
       "    </tr>\n",
       "  </thead>\n",
       "  <tbody>\n",
       "    <tr>\n",
       "      <th>0</th>\n",
       "      <td>Stocks That Hit 52-Week Highs On Friday</td>\n",
       "      <td>2020-01-01</td>\n",
       "      <td>A</td>\n",
       "      <td>both</td>\n",
       "    </tr>\n",
       "    <tr>\n",
       "      <th>1</th>\n",
       "      <td>Stocks That Hit 52-Week Highs On Wednesday</td>\n",
       "      <td>2020-01-01</td>\n",
       "      <td>A</td>\n",
       "      <td>both</td>\n",
       "    </tr>\n",
       "    <tr>\n",
       "      <th>2</th>\n",
       "      <td>71 Biggest Movers From Friday</td>\n",
       "      <td>2020-01-01</td>\n",
       "      <td>A</td>\n",
       "      <td>both</td>\n",
       "    </tr>\n",
       "    <tr>\n",
       "      <th>3</th>\n",
       "      <td>46 Stocks Moving In Friday's Mid-Day Session</td>\n",
       "      <td>2020-01-01</td>\n",
       "      <td>A</td>\n",
       "      <td>both</td>\n",
       "    </tr>\n",
       "    <tr>\n",
       "      <th>4</th>\n",
       "      <td>B of A Securities Maintains Neutral on Agilent...</td>\n",
       "      <td>2020-01-01</td>\n",
       "      <td>A</td>\n",
       "      <td>both</td>\n",
       "    </tr>\n",
       "  </tbody>\n",
       "</table>\n",
       "</div>"
      ],
      "text/plain": [
       "                                               title       date stock Exist\n",
       "0            Stocks That Hit 52-Week Highs On Friday 2020-01-01     A  both\n",
       "1         Stocks That Hit 52-Week Highs On Wednesday 2020-01-01     A  both\n",
       "2                      71 Biggest Movers From Friday 2020-01-01     A  both\n",
       "3       46 Stocks Moving In Friday's Mid-Day Session 2020-01-01     A  both\n",
       "4  B of A Securities Maintains Neutral on Agilent... 2020-01-01     A  both"
      ]
     },
     "execution_count": 31,
     "metadata": {},
     "output_type": "execute_result"
    }
   ],
   "source": [
    "SP500.head()"
   ]
  },
  {
   "cell_type": "code",
   "execution_count": 32,
   "metadata": {},
   "outputs": [
    {
     "data": {
      "text/html": [
       "<div>\n",
       "<style scoped>\n",
       "    .dataframe tbody tr th:only-of-type {\n",
       "        vertical-align: middle;\n",
       "    }\n",
       "\n",
       "    .dataframe tbody tr th {\n",
       "        vertical-align: top;\n",
       "    }\n",
       "\n",
       "    .dataframe thead th {\n",
       "        text-align: right;\n",
       "    }\n",
       "</style>\n",
       "<table border=\"1\" class=\"dataframe\">\n",
       "  <thead>\n",
       "    <tr style=\"text-align: right;\">\n",
       "      <th></th>\n",
       "      <th>title</th>\n",
       "      <th>date</th>\n",
       "      <th>stock</th>\n",
       "    </tr>\n",
       "  </thead>\n",
       "  <tbody>\n",
       "    <tr>\n",
       "      <th>0</th>\n",
       "      <td>Stocks That Hit 52-Week Highs On Friday</td>\n",
       "      <td>2020-01-01</td>\n",
       "      <td>A</td>\n",
       "    </tr>\n",
       "    <tr>\n",
       "      <th>1</th>\n",
       "      <td>Stocks That Hit 52-Week Highs On Wednesday</td>\n",
       "      <td>2020-01-01</td>\n",
       "      <td>A</td>\n",
       "    </tr>\n",
       "    <tr>\n",
       "      <th>2</th>\n",
       "      <td>71 Biggest Movers From Friday</td>\n",
       "      <td>2020-01-01</td>\n",
       "      <td>A</td>\n",
       "    </tr>\n",
       "    <tr>\n",
       "      <th>3</th>\n",
       "      <td>46 Stocks Moving In Friday's Mid-Day Session</td>\n",
       "      <td>2020-01-01</td>\n",
       "      <td>A</td>\n",
       "    </tr>\n",
       "    <tr>\n",
       "      <th>4</th>\n",
       "      <td>B of A Securities Maintains Neutral on Agilent...</td>\n",
       "      <td>2020-01-01</td>\n",
       "      <td>A</td>\n",
       "    </tr>\n",
       "    <tr>\n",
       "      <th>...</th>\n",
       "      <td>...</td>\n",
       "      <td>...</td>\n",
       "      <td>...</td>\n",
       "    </tr>\n",
       "    <tr>\n",
       "      <th>401955</th>\n",
       "      <td>Stocks That Made New 52-Wk Highs Earlier Today...</td>\n",
       "      <td>2018-01-01</td>\n",
       "      <td>ZTS</td>\n",
       "    </tr>\n",
       "    <tr>\n",
       "      <th>401956</th>\n",
       "      <td>Zoetis Sees FY18 Adj. EPS $2.96-$3.10 vs $2.98...</td>\n",
       "      <td>2018-01-01</td>\n",
       "      <td>ZTS</td>\n",
       "    </tr>\n",
       "    <tr>\n",
       "      <th>401957</th>\n",
       "      <td>Zoetis Reports Q4 Adj. EPS $0.69 vs $0.66 Est....</td>\n",
       "      <td>2018-01-01</td>\n",
       "      <td>ZTS</td>\n",
       "    </tr>\n",
       "    <tr>\n",
       "      <th>401958</th>\n",
       "      <td>Earnings Scheduled For February 15, 2018</td>\n",
       "      <td>2018-01-01</td>\n",
       "      <td>ZTS</td>\n",
       "    </tr>\n",
       "    <tr>\n",
       "      <th>401959</th>\n",
       "      <td>Zoetis 8-K Shows Expectation For Net Reduction...</td>\n",
       "      <td>2018-01-01</td>\n",
       "      <td>ZTS</td>\n",
       "    </tr>\n",
       "  </tbody>\n",
       "</table>\n",
       "<p>111202 rows × 3 columns</p>\n",
       "</div>"
      ],
      "text/plain": [
       "                                                    title       date stock\n",
       "0                 Stocks That Hit 52-Week Highs On Friday 2020-01-01     A\n",
       "1              Stocks That Hit 52-Week Highs On Wednesday 2020-01-01     A\n",
       "2                           71 Biggest Movers From Friday 2020-01-01     A\n",
       "3            46 Stocks Moving In Friday's Mid-Day Session 2020-01-01     A\n",
       "4       B of A Securities Maintains Neutral on Agilent... 2020-01-01     A\n",
       "...                                                   ...        ...   ...\n",
       "401955  Stocks That Made New 52-Wk Highs Earlier Today... 2018-01-01   ZTS\n",
       "401956  Zoetis Sees FY18 Adj. EPS $2.96-$3.10 vs $2.98... 2018-01-01   ZTS\n",
       "401957  Zoetis Reports Q4 Adj. EPS $0.69 vs $0.66 Est.... 2018-01-01   ZTS\n",
       "401958           Earnings Scheduled For February 15, 2018 2018-01-01   ZTS\n",
       "401959  Zoetis 8-K Shows Expectation For Net Reduction... 2018-01-01   ZTS\n",
       "\n",
       "[111202 rows x 3 columns]"
      ]
     },
     "execution_count": 32,
     "metadata": {},
     "output_type": "execute_result"
    }
   ],
   "source": [
    "\"\"\" Keeping only the filtered stocks and removing the indicator column \n",
    "\"\"\"\n",
    "\n",
    "SP500 = SP500[SP500['Exist'] == 'both'].drop(columns='Exist')\n",
    "\n",
    "SP500"
   ]
  },
  {
   "cell_type": "code",
   "execution_count": 33,
   "metadata": {},
   "outputs": [
    {
     "data": {
      "text/plain": [
       "393"
      ]
     },
     "execution_count": 33,
     "metadata": {},
     "output_type": "execute_result"
    }
   ],
   "source": [
    "SP500['stock'].nunique()"
   ]
  },
  {
   "cell_type": "code",
   "execution_count": 35,
   "metadata": {},
   "outputs": [],
   "source": [
    "#Saving the S&P Dataset for team\n",
    "\n",
    "SP500.to_csv('Dataset/SP500.csv')"
   ]
  }
 ],
 "metadata": {
  "kernelspec": {
   "display_name": "InvestoInsight",
   "language": "python",
   "name": "python3"
  },
  "language_info": {
   "codemirror_mode": {
    "name": "ipython",
    "version": 3
   },
   "file_extension": ".py",
   "mimetype": "text/x-python",
   "name": "python",
   "nbconvert_exporter": "python",
   "pygments_lexer": "ipython3",
   "version": "3.10.6"
  },
  "orig_nbformat": 4
 },
 "nbformat": 4,
 "nbformat_minor": 2
}
