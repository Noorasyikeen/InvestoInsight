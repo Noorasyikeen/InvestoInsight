{
 "cells": [
  {
   "cell_type": "code",
   "execution_count": 1,
   "metadata": {},
   "outputs": [
    {
     "name": "stderr",
     "output_type": "stream",
     "text": [
      "2023-09-28 19:17:36.072586: I tensorflow/tsl/cuda/cudart_stub.cc:28] Could not find cuda drivers on your machine, GPU will not be used.\n",
      "2023-09-28 19:17:37.415499: I tensorflow/tsl/cuda/cudart_stub.cc:28] Could not find cuda drivers on your machine, GPU will not be used.\n",
      "2023-09-28 19:17:37.455612: I tensorflow/core/platform/cpu_feature_guard.cc:182] This TensorFlow binary is optimized to use available CPU instructions in performance-critical operations.\n",
      "To enable the following instructions: AVX2 FMA, in other operations, rebuild TensorFlow with the appropriate compiler flags.\n",
      "2023-09-28 19:17:43.675308: W tensorflow/compiler/tf2tensorrt/utils/py_utils.cc:38] TF-TRT Warning: Could not find TensorRT\n"
     ]
    }
   ],
   "source": [
    "import pandas as pd\n",
    "import numpy as np\n",
    "import matplotlib.pyplot as plt\n",
    "plt.style.use('fivethirtyeight')\n",
    "\n",
    "import math\n",
    "\n",
    "from sklearn.model_selection import train_test_split\n",
    "from sklearn.metrics import mean_squared_error\n",
    "from sklearn.preprocessing import MinMaxScaler\n",
    "\n",
    "from tensorflow import keras\n",
    "from tensorflow.keras.layers import Dense, Dropout, GRU, Embedding\n",
    "from tensorflow.keras.models import Sequential\n",
    "from tensorflow.keras.optimizers import SGD\n",
    "from tensorflow.keras.preprocessing import sequence\n",
    "from tensorflow.keras.callbacks import EarlyStopping\n",
    "from tensorflow.keras.preprocessing.text import Tokenizer"
   ]
  },
  {
   "cell_type": "code",
   "execution_count": 2,
   "metadata": {},
   "outputs": [],
   "source": [
    "df = pd.read_csv('../raw_data/sorted_feature_matrix.csv').drop(columns='Unnamed: 0')"
   ]
  },
  {
   "cell_type": "code",
   "execution_count": 3,
   "metadata": {},
   "outputs": [
    {
     "data": {
      "text/plain": [
       "Date                  0\n",
       "Dividend              0\n",
       "Volume                0\n",
       "stock_price           0\n",
       "fed_funds_rate        0\n",
       "GDP                   0\n",
       "Tickers               0\n",
       "debt_to_equity        0\n",
       "EPS                   0\n",
       "return_on_equity      0\n",
       "quick ratio           0\n",
       "operating_ratio       0\n",
       "inventory_turnover    0\n",
       "pos_ma                0\n",
       "neu_ma                0\n",
       "neg_ma                0\n",
       "dtype: int64"
      ]
     },
     "execution_count": 3,
     "metadata": {},
     "output_type": "execute_result"
    }
   ],
   "source": [
    "df.isnull().sum()"
   ]
  },
  {
   "cell_type": "code",
   "execution_count": 113,
   "metadata": {},
   "outputs": [
    {
     "name": "stdout",
     "output_type": "stream",
     "text": [
      "<class 'pandas.core.frame.DataFrame'>\n",
      "RangeIndex: 32914 entries, 0 to 32913\n",
      "Data columns (total 16 columns):\n",
      " #   Column              Non-Null Count  Dtype  \n",
      "---  ------              --------------  -----  \n",
      " 0   Date                32914 non-null  object \n",
      " 1   Dividend            32914 non-null  float64\n",
      " 2   Volume              32914 non-null  float64\n",
      " 3   stock_price         32914 non-null  float64\n",
      " 4   fed_funds_rate      32914 non-null  float64\n",
      " 5   GDP                 32914 non-null  float64\n",
      " 6   Tickers             32914 non-null  object \n",
      " 7   debt_to_equity      32914 non-null  float64\n",
      " 8   EPS                 32914 non-null  float64\n",
      " 9   return_on_equity    32914 non-null  float64\n",
      " 10  quick ratio         32914 non-null  float64\n",
      " 11  operating_ratio     32914 non-null  float64\n",
      " 12  inventory_turnover  32914 non-null  float64\n",
      " 13  pos_ma              32914 non-null  float64\n",
      " 14  neu_ma              32914 non-null  float64\n",
      " 15  neg_ma              32914 non-null  float64\n",
      "dtypes: float64(14), object(2)\n",
      "memory usage: 4.0+ MB\n"
     ]
    }
   ],
   "source": [
    "df.info()"
   ]
  },
  {
   "cell_type": "markdown",
   "metadata": {},
   "source": [
    "## Todo\n",
    "1. train-test-split\n",
    "2. Standard scale float,\n",
    "3. Create seq\n",
    "4.  Model, embedding layer w mse and rmse\n"
   ]
  },
  {
   "cell_type": "code",
   "execution_count": 4,
   "metadata": {},
   "outputs": [
    {
     "data": {
      "text/html": [
       "<div>\n",
       "<style scoped>\n",
       "    .dataframe tbody tr th:only-of-type {\n",
       "        vertical-align: middle;\n",
       "    }\n",
       "\n",
       "    .dataframe tbody tr th {\n",
       "        vertical-align: top;\n",
       "    }\n",
       "\n",
       "    .dataframe thead th {\n",
       "        text-align: right;\n",
       "    }\n",
       "</style>\n",
       "<table border=\"1\" class=\"dataframe\">\n",
       "  <thead>\n",
       "    <tr style=\"text-align: right;\">\n",
       "      <th></th>\n",
       "      <th>Date</th>\n",
       "      <th>Dividend</th>\n",
       "      <th>Volume</th>\n",
       "      <th>stock_price</th>\n",
       "      <th>fed_funds_rate</th>\n",
       "      <th>GDP</th>\n",
       "      <th>Tickers</th>\n",
       "      <th>debt_to_equity</th>\n",
       "      <th>EPS</th>\n",
       "      <th>return_on_equity</th>\n",
       "      <th>quick ratio</th>\n",
       "      <th>operating_ratio</th>\n",
       "      <th>inventory_turnover</th>\n",
       "      <th>pos_ma</th>\n",
       "      <th>neu_ma</th>\n",
       "      <th>neg_ma</th>\n",
       "    </tr>\n",
       "  </thead>\n",
       "  <tbody>\n",
       "    <tr>\n",
       "      <th>0</th>\n",
       "      <td>2018-01-31</td>\n",
       "      <td>0.00</td>\n",
       "      <td>5.315047e+06</td>\n",
       "      <td>51.919825</td>\n",
       "      <td>1.41</td>\n",
       "      <td>4500.182000</td>\n",
       "      <td>AAL</td>\n",
       "      <td>-134.253165</td>\n",
       "      <td>0.807713</td>\n",
       "      <td>-0.941772</td>\n",
       "      <td>0.484585</td>\n",
       "      <td>0.476713</td>\n",
       "      <td>1.930838</td>\n",
       "      <td>0.285655</td>\n",
       "      <td>5.198588e-01</td>\n",
       "      <td>1.944860e-01</td>\n",
       "    </tr>\n",
       "    <tr>\n",
       "      <th>1</th>\n",
       "      <td>2018-01-31</td>\n",
       "      <td>0.00</td>\n",
       "      <td>1.795523e+08</td>\n",
       "      <td>40.275178</td>\n",
       "      <td>1.41</td>\n",
       "      <td>4500.182000</td>\n",
       "      <td>AAPL</td>\n",
       "      <td>2.413301</td>\n",
       "      <td>2.970566</td>\n",
       "      <td>0.131828</td>\n",
       "      <td>1.098802</td>\n",
       "      <td>0.743752</td>\n",
       "      <td>9.811931</td>\n",
       "      <td>0.222114</td>\n",
       "      <td>6.974815e-01</td>\n",
       "      <td>8.040471e-02</td>\n",
       "    </tr>\n",
       "    <tr>\n",
       "      <th>2</th>\n",
       "      <td>2018-01-31</td>\n",
       "      <td>0.71</td>\n",
       "      <td>7.794467e+06</td>\n",
       "      <td>87.747239</td>\n",
       "      <td>1.41</td>\n",
       "      <td>4500.182000</td>\n",
       "      <td>ABBV</td>\n",
       "      <td>-23.651147</td>\n",
       "      <td>1.818001</td>\n",
       "      <td>-0.940431</td>\n",
       "      <td>1.083967</td>\n",
       "      <td>0.657965</td>\n",
       "      <td>1.027436</td>\n",
       "      <td>0.351660</td>\n",
       "      <td>3.990092e-01</td>\n",
       "      <td>2.493303e-01</td>\n",
       "    </tr>\n",
       "    <tr>\n",
       "      <th>3</th>\n",
       "      <td>2018-01-31</td>\n",
       "      <td>0.28</td>\n",
       "      <td>7.860137e+06</td>\n",
       "      <td>54.655791</td>\n",
       "      <td>1.41</td>\n",
       "      <td>4500.182000</td>\n",
       "      <td>ABT</td>\n",
       "      <td>1.333073</td>\n",
       "      <td>0.319962</td>\n",
       "      <td>0.018336</td>\n",
       "      <td>1.128287</td>\n",
       "      <td>0.829424</td>\n",
       "      <td>0.837345</td>\n",
       "      <td>0.323488</td>\n",
       "      <td>5.800269e-01</td>\n",
       "      <td>9.648529e-02</td>\n",
       "    </tr>\n",
       "    <tr>\n",
       "      <th>4</th>\n",
       "      <td>2018-01-31</td>\n",
       "      <td>0.00</td>\n",
       "      <td>1.614810e+06</td>\n",
       "      <td>29.889667</td>\n",
       "      <td>1.41</td>\n",
       "      <td>4500.182000</td>\n",
       "      <td>ACGL</td>\n",
       "      <td>2.331811</td>\n",
       "      <td>0.564373</td>\n",
       "      <td>0.024308</td>\n",
       "      <td>0.679544</td>\n",
       "      <td>0.278000</td>\n",
       "      <td>0.000000</td>\n",
       "      <td>0.000003</td>\n",
       "      <td>1.541489e-05</td>\n",
       "      <td>9.999820e-01</td>\n",
       "    </tr>\n",
       "    <tr>\n",
       "      <th>...</th>\n",
       "      <td>...</td>\n",
       "      <td>...</td>\n",
       "      <td>...</td>\n",
       "      <td>...</td>\n",
       "      <td>...</td>\n",
       "      <td>...</td>\n",
       "      <td>...</td>\n",
       "      <td>...</td>\n",
       "      <td>...</td>\n",
       "      <td>...</td>\n",
       "      <td>...</td>\n",
       "      <td>...</td>\n",
       "      <td>...</td>\n",
       "      <td>...</td>\n",
       "      <td>...</td>\n",
       "      <td>...</td>\n",
       "    </tr>\n",
       "    <tr>\n",
       "      <th>32909</th>\n",
       "      <td>2023-09-30</td>\n",
       "      <td>0.00</td>\n",
       "      <td>2.114983e+06</td>\n",
       "      <td>133.590376</td>\n",
       "      <td>5.08</td>\n",
       "      <td>5105.025000</td>\n",
       "      <td>YUM</td>\n",
       "      <td>-1.693220</td>\n",
       "      <td>1.487544</td>\n",
       "      <td>-0.049550</td>\n",
       "      <td>0.721587</td>\n",
       "      <td>0.427386</td>\n",
       "      <td>0.938914</td>\n",
       "      <td>0.008204</td>\n",
       "      <td>4.912204e-01</td>\n",
       "      <td>5.005759e-01</td>\n",
       "    </tr>\n",
       "    <tr>\n",
       "      <th>32910</th>\n",
       "      <td>2023-09-30</td>\n",
       "      <td>0.00</td>\n",
       "      <td>1.614090e+06</td>\n",
       "      <td>135.349948</td>\n",
       "      <td>5.08</td>\n",
       "      <td>5105.025000</td>\n",
       "      <td>ZBH</td>\n",
       "      <td>0.720673</td>\n",
       "      <td>1.004794</td>\n",
       "      <td>0.016942</td>\n",
       "      <td>0.945561</td>\n",
       "      <td>0.834571</td>\n",
       "      <td>0.230908</td>\n",
       "      <td>0.499998</td>\n",
       "      <td>5.000007e-01</td>\n",
       "      <td>1.404991e-06</td>\n",
       "    </tr>\n",
       "    <tr>\n",
       "      <th>32911</th>\n",
       "      <td>2023-09-30</td>\n",
       "      <td>0.00</td>\n",
       "      <td>3.709700e+05</td>\n",
       "      <td>274.414666</td>\n",
       "      <td>5.08</td>\n",
       "      <td>5053.623333</td>\n",
       "      <td>ZBRA</td>\n",
       "      <td>1.491979</td>\n",
       "      <td>2.802807</td>\n",
       "      <td>0.048128</td>\n",
       "      <td>0.502260</td>\n",
       "      <td>0.854987</td>\n",
       "      <td>0.732639</td>\n",
       "      <td>0.999969</td>\n",
       "      <td>2.603792e-05</td>\n",
       "      <td>5.176677e-06</td>\n",
       "    </tr>\n",
       "    <tr>\n",
       "      <th>32912</th>\n",
       "      <td>2023-09-30</td>\n",
       "      <td>0.00</td>\n",
       "      <td>5.042810e+06</td>\n",
       "      <td>28.125514</td>\n",
       "      <td>5.08</td>\n",
       "      <td>5105.025000</td>\n",
       "      <td>ZION</td>\n",
       "      <td>15.511452</td>\n",
       "      <td>1.181283</td>\n",
       "      <td>0.033125</td>\n",
       "      <td>0.458553</td>\n",
       "      <td>0.388889</td>\n",
       "      <td>-17.000000</td>\n",
       "      <td>1.000000</td>\n",
       "      <td>2.596820e-07</td>\n",
       "      <td>6.590589e-08</td>\n",
       "    </tr>\n",
       "    <tr>\n",
       "      <th>32913</th>\n",
       "      <td>2023-09-30</td>\n",
       "      <td>0.00</td>\n",
       "      <td>2.192707e+06</td>\n",
       "      <td>168.943788</td>\n",
       "      <td>5.12</td>\n",
       "      <td>5105.025000</td>\n",
       "      <td>ZTS</td>\n",
       "      <td>1.973622</td>\n",
       "      <td>1.456319</td>\n",
       "      <td>0.145081</td>\n",
       "      <td>1.968344</td>\n",
       "      <td>0.580734</td>\n",
       "      <td>0.224732</td>\n",
       "      <td>0.000009</td>\n",
       "      <td>9.999810e-01</td>\n",
       "      <td>9.611364e-06</td>\n",
       "    </tr>\n",
       "  </tbody>\n",
       "</table>\n",
       "<p>32914 rows × 16 columns</p>\n",
       "</div>"
      ],
      "text/plain": [
       "            Date  Dividend        Volume  stock_price  fed_funds_rate  \\\n",
       "0     2018-01-31      0.00  5.315047e+06    51.919825            1.41   \n",
       "1     2018-01-31      0.00  1.795523e+08    40.275178            1.41   \n",
       "2     2018-01-31      0.71  7.794467e+06    87.747239            1.41   \n",
       "3     2018-01-31      0.28  7.860137e+06    54.655791            1.41   \n",
       "4     2018-01-31      0.00  1.614810e+06    29.889667            1.41   \n",
       "...          ...       ...           ...          ...             ...   \n",
       "32909 2023-09-30      0.00  2.114983e+06   133.590376            5.08   \n",
       "32910 2023-09-30      0.00  1.614090e+06   135.349948            5.08   \n",
       "32911 2023-09-30      0.00  3.709700e+05   274.414666            5.08   \n",
       "32912 2023-09-30      0.00  5.042810e+06    28.125514            5.08   \n",
       "32913 2023-09-30      0.00  2.192707e+06   168.943788            5.12   \n",
       "\n",
       "               GDP Tickers  debt_to_equity       EPS  return_on_equity  \\\n",
       "0      4500.182000     AAL     -134.253165  0.807713         -0.941772   \n",
       "1      4500.182000    AAPL        2.413301  2.970566          0.131828   \n",
       "2      4500.182000    ABBV      -23.651147  1.818001         -0.940431   \n",
       "3      4500.182000     ABT        1.333073  0.319962          0.018336   \n",
       "4      4500.182000    ACGL        2.331811  0.564373          0.024308   \n",
       "...            ...     ...             ...       ...               ...   \n",
       "32909  5105.025000     YUM       -1.693220  1.487544         -0.049550   \n",
       "32910  5105.025000     ZBH        0.720673  1.004794          0.016942   \n",
       "32911  5053.623333    ZBRA        1.491979  2.802807          0.048128   \n",
       "32912  5105.025000    ZION       15.511452  1.181283          0.033125   \n",
       "32913  5105.025000     ZTS        1.973622  1.456319          0.145081   \n",
       "\n",
       "       quick ratio  operating_ratio  inventory_turnover    pos_ma  \\\n",
       "0         0.484585         0.476713            1.930838  0.285655   \n",
       "1         1.098802         0.743752            9.811931  0.222114   \n",
       "2         1.083967         0.657965            1.027436  0.351660   \n",
       "3         1.128287         0.829424            0.837345  0.323488   \n",
       "4         0.679544         0.278000            0.000000  0.000003   \n",
       "...            ...              ...                 ...       ...   \n",
       "32909     0.721587         0.427386            0.938914  0.008204   \n",
       "32910     0.945561         0.834571            0.230908  0.499998   \n",
       "32911     0.502260         0.854987            0.732639  0.999969   \n",
       "32912     0.458553         0.388889          -17.000000  1.000000   \n",
       "32913     1.968344         0.580734            0.224732  0.000009   \n",
       "\n",
       "             neu_ma        neg_ma  \n",
       "0      5.198588e-01  1.944860e-01  \n",
       "1      6.974815e-01  8.040471e-02  \n",
       "2      3.990092e-01  2.493303e-01  \n",
       "3      5.800269e-01  9.648529e-02  \n",
       "4      1.541489e-05  9.999820e-01  \n",
       "...             ...           ...  \n",
       "32909  4.912204e-01  5.005759e-01  \n",
       "32910  5.000007e-01  1.404991e-06  \n",
       "32911  2.603792e-05  5.176677e-06  \n",
       "32912  2.596820e-07  6.590589e-08  \n",
       "32913  9.999810e-01  9.611364e-06  \n",
       "\n",
       "[32914 rows x 16 columns]"
      ]
     },
     "execution_count": 4,
     "metadata": {},
     "output_type": "execute_result"
    }
   ],
   "source": [
    "df['Date'] = pd.to_datetime(df['Date'])\n",
    "data = df.copy()\n",
    "\n",
    "data\n"
   ]
  },
  {
   "cell_type": "code",
   "execution_count": 5,
   "metadata": {},
   "outputs": [
    {
     "data": {
      "text/plain": [
       "Date                  datetime64[ns]\n",
       "Dividend                     float64\n",
       "Volume                       float64\n",
       "stock_price                  float64\n",
       "fed_funds_rate               float64\n",
       "GDP                          float64\n",
       "Tickers               string[python]\n",
       "debt_to_equity               float64\n",
       "EPS                          float64\n",
       "return_on_equity             float64\n",
       "quick ratio                  float64\n",
       "operating_ratio              float64\n",
       "inventory_turnover           float64\n",
       "pos_ma                       float64\n",
       "neu_ma                       float64\n",
       "neg_ma                       float64\n",
       "dtype: object"
      ]
     },
     "execution_count": 5,
     "metadata": {},
     "output_type": "execute_result"
    }
   ],
   "source": [
    "data['Tickers'] = data['Tickers'].astype('string')\n",
    "\n",
    "data.dtypes"
   ]
  },
  {
   "cell_type": "code",
   "execution_count": 6,
   "metadata": {},
   "outputs": [],
   "source": [
    "data[data.select_dtypes(include=['float64']).columns] = data.select_dtypes(include = ['float64']).astype('float32')"
   ]
  },
  {
   "cell_type": "code",
   "execution_count": 7,
   "metadata": {},
   "outputs": [
    {
     "data": {
      "text/plain": [
       "Date                  datetime64[ns]\n",
       "Dividend                     float32\n",
       "Volume                       float32\n",
       "stock_price                  float32\n",
       "fed_funds_rate               float32\n",
       "GDP                          float32\n",
       "Tickers               string[python]\n",
       "debt_to_equity               float32\n",
       "EPS                          float32\n",
       "return_on_equity             float32\n",
       "quick ratio                  float32\n",
       "operating_ratio              float32\n",
       "inventory_turnover           float32\n",
       "pos_ma                       float32\n",
       "neu_ma                       float32\n",
       "neg_ma                       float32\n",
       "dtype: object"
      ]
     },
     "execution_count": 7,
     "metadata": {},
     "output_type": "execute_result"
    }
   ],
   "source": [
    "data.dtypes"
   ]
  },
  {
   "cell_type": "markdown",
   "metadata": {},
   "source": [
    "## Train- Test- Split"
   ]
  },
  {
   "cell_type": "code",
   "execution_count": 8,
   "metadata": {},
   "outputs": [],
   "source": [
    "# Split point based on the time period for testing\n",
    "test_period = pd.DateOffset(months=12)\n",
    "\n",
    "train_data = []\n",
    "test_data = []\n",
    "\n",
    "ticker_groups = data.groupby('Tickers')\n",
    "\n",
    "for ticker, group in ticker_groups:\n",
    "    # Sort the group data by date in ascending order\n",
    "    group.sort_values(by='Date', inplace=True)\n",
    "    \n",
    "    # Calculate the split date for this ticker\n",
    "    split_date = group['Date'].max() - test_period\n",
    "    \n",
    "    # Split the data for this ticker into training and testing sets\n",
    "    train_group = group[group['Date'] < split_date]\n",
    "    test_group = group[group['Date'] >= split_date]\n",
    "    \n",
    "    # Append the split data to the respective lists\n",
    "    train_data.append(train_group)\n",
    "    test_data.append(test_group)\n",
    "    \n",
    "train_df = pd.concat(train_data)\n",
    "test_df = pd.concat(test_data)"
   ]
  },
  {
   "cell_type": "code",
   "execution_count": 9,
   "metadata": {},
   "outputs": [],
   "source": [
    "X_train = train_df.drop(columns=['stock_price', 'Date'])\n",
    "y_train = train_df['stock_price'].values\n",
    "\n",
    "X_test = test_df.drop(columns=['stock_price', 'Date'])\n",
    "y_test = test_df['stock_price'].values"
   ]
  },
  {
   "cell_type": "code",
   "execution_count": 10,
   "metadata": {},
   "outputs": [],
   "source": [
    "scaler = MinMaxScaler()\n",
    "# Fit the scaler to your training data and transform it\n",
    "X_train_scaled = scaler.fit_transform(X_train.select_dtypes(include='float'))\n",
    "\n",
    "# Transform your test data using the same scaler\n",
    "X_test_scaled = scaler.transform(X_test.select_dtypes(include='float'))"
   ]
  },
  {
   "cell_type": "markdown",
   "metadata": {},
   "source": [
    "## Model"
   ]
  },
  {
   "cell_type": "code",
   "execution_count": 11,
   "metadata": {},
   "outputs": [],
   "source": [
    "max_features = 5  # Maximum number of words to get\n",
    "max_len = 13  # Maximum sequence length\n",
    "embedding_dim = 50  # Dimensionality of word embeddings"
   ]
  },
  {
   "cell_type": "code",
   "execution_count": 40,
   "metadata": {},
   "outputs": [
    {
     "name": "stderr",
     "output_type": "stream",
     "text": [
      "2023-09-28 20:15:38.350786: I tensorflow/core/common_runtime/executor.cc:1197] [/device:CPU:0] (DEBUG INFO) Executor start aborting (this does not indicate an error and you can ignore this message): INVALID_ARGUMENT: You must feed a value for placeholder tensor 'gradients/split_2_grad/concat/split_2/split_dim' with dtype int32\n",
      "\t [[{{node gradients/split_2_grad/concat/split_2/split_dim}}]]\n",
      "2023-09-28 20:15:38.354470: I tensorflow/core/common_runtime/executor.cc:1197] [/device:CPU:0] (DEBUG INFO) Executor start aborting (this does not indicate an error and you can ignore this message): INVALID_ARGUMENT: You must feed a value for placeholder tensor 'gradients/split_grad/concat/split/split_dim' with dtype int32\n",
      "\t [[{{node gradients/split_grad/concat/split/split_dim}}]]\n",
      "2023-09-28 20:15:38.359502: I tensorflow/core/common_runtime/executor.cc:1197] [/device:CPU:0] (DEBUG INFO) Executor start aborting (this does not indicate an error and you can ignore this message): INVALID_ARGUMENT: You must feed a value for placeholder tensor 'gradients/split_1_grad/concat/split_1/split_dim' with dtype int32\n",
      "\t [[{{node gradients/split_1_grad/concat/split_1/split_dim}}]]\n"
     ]
    }
   ],
   "source": [
    "model = Sequential()\n",
    "\n",
    "model.add(Embedding(max_features,embedding_dim, input_length= max_len))\n",
    "\n",
    "model.add(GRU(64))\n",
    "\n",
    "model.add(Dense(32,activation='relu'))\n",
    "\n",
    "model.add(Dense(1, activation='sigmoid'))\n",
    "\n",
    "model.compile(loss= 'mse', optimizer= 'adam', metrics=['accuracy'])\n"
   ]
  },
  {
   "cell_type": "code",
   "execution_count": 41,
   "metadata": {},
   "outputs": [
    {
     "name": "stdout",
     "output_type": "stream",
     "text": [
      "Model: \"sequential_3\"\n",
      "_________________________________________________________________\n",
      " Layer (type)                Output Shape              Param #   \n",
      "=================================================================\n",
      " embedding_3 (Embedding)     (None, 13, 50)            250       \n",
      "                                                                 \n",
      " gru_3 (GRU)                 (None, 64)                22272     \n",
      "                                                                 \n",
      " dense_6 (Dense)             (None, 32)                2080      \n",
      "                                                                 \n",
      " dense_7 (Dense)             (None, 1)                 33        \n",
      "                                                                 \n",
      "=================================================================\n",
      "Total params: 24,635\n",
      "Trainable params: 24,635\n",
      "Non-trainable params: 0\n",
      "_________________________________________________________________\n"
     ]
    }
   ],
   "source": [
    "model.summary()"
   ]
  },
  {
   "cell_type": "code",
   "execution_count": 42,
   "metadata": {},
   "outputs": [
    {
     "name": "stdout",
     "output_type": "stream",
     "text": [
      "Epoch 1/100\n"
     ]
    },
    {
     "name": "stderr",
     "output_type": "stream",
     "text": [
      "2023-09-28 20:15:54.659891: I tensorflow/core/common_runtime/executor.cc:1197] [/device:CPU:0] (DEBUG INFO) Executor start aborting (this does not indicate an error and you can ignore this message): INVALID_ARGUMENT: You must feed a value for placeholder tensor 'gradients/split_2_grad/concat/split_2/split_dim' with dtype int32\n",
      "\t [[{{node gradients/split_2_grad/concat/split_2/split_dim}}]]\n",
      "2023-09-28 20:15:54.665830: I tensorflow/core/common_runtime/executor.cc:1197] [/device:CPU:0] (DEBUG INFO) Executor start aborting (this does not indicate an error and you can ignore this message): INVALID_ARGUMENT: You must feed a value for placeholder tensor 'gradients/split_grad/concat/split/split_dim' with dtype int32\n",
      "\t [[{{node gradients/split_grad/concat/split/split_dim}}]]\n",
      "2023-09-28 20:15:54.670576: I tensorflow/core/common_runtime/executor.cc:1197] [/device:CPU:0] (DEBUG INFO) Executor start aborting (this does not indicate an error and you can ignore this message): INVALID_ARGUMENT: You must feed a value for placeholder tensor 'gradients/split_1_grad/concat/split_1/split_dim' with dtype int32\n",
      "\t [[{{node gradients/split_1_grad/concat/split_1/split_dim}}]]\n",
      "2023-09-28 20:15:56.385795: I tensorflow/core/common_runtime/executor.cc:1197] [/device:CPU:0] (DEBUG INFO) Executor start aborting (this does not indicate an error and you can ignore this message): INVALID_ARGUMENT: You must feed a value for placeholder tensor 'gradients/split_2_grad/concat/split_2/split_dim' with dtype int32\n",
      "\t [[{{node gradients/split_2_grad/concat/split_2/split_dim}}]]\n",
      "2023-09-28 20:15:56.394570: I tensorflow/core/common_runtime/executor.cc:1197] [/device:CPU:0] (DEBUG INFO) Executor start aborting (this does not indicate an error and you can ignore this message): INVALID_ARGUMENT: You must feed a value for placeholder tensor 'gradients/split_grad/concat/split/split_dim' with dtype int32\n",
      "\t [[{{node gradients/split_grad/concat/split/split_dim}}]]\n",
      "2023-09-28 20:15:56.397816: I tensorflow/core/common_runtime/executor.cc:1197] [/device:CPU:0] (DEBUG INFO) Executor start aborting (this does not indicate an error and you can ignore this message): INVALID_ARGUMENT: You must feed a value for placeholder tensor 'gradients/split_1_grad/concat/split_1/split_dim' with dtype int32\n",
      "\t [[{{node gradients/split_1_grad/concat/split_1/split_dim}}]]\n"
     ]
    },
    {
     "name": "stdout",
     "output_type": "stream",
     "text": [
      "666/667 [============================>.] - ETA: 0s - loss: 84658.7812 - accuracy: 0.0000e+00"
     ]
    },
    {
     "name": "stderr",
     "output_type": "stream",
     "text": [
      "2023-09-28 20:16:11.284162: I tensorflow/core/common_runtime/executor.cc:1197] [/device:CPU:0] (DEBUG INFO) Executor start aborting (this does not indicate an error and you can ignore this message): INVALID_ARGUMENT: You must feed a value for placeholder tensor 'gradients/split_2_grad/concat/split_2/split_dim' with dtype int32\n",
      "\t [[{{node gradients/split_2_grad/concat/split_2/split_dim}}]]\n",
      "2023-09-28 20:16:11.292779: I tensorflow/core/common_runtime/executor.cc:1197] [/device:CPU:0] (DEBUG INFO) Executor start aborting (this does not indicate an error and you can ignore this message): INVALID_ARGUMENT: You must feed a value for placeholder tensor 'gradients/split_grad/concat/split/split_dim' with dtype int32\n",
      "\t [[{{node gradients/split_grad/concat/split/split_dim}}]]\n",
      "2023-09-28 20:16:11.295135: I tensorflow/core/common_runtime/executor.cc:1197] [/device:CPU:0] (DEBUG INFO) Executor start aborting (this does not indicate an error and you can ignore this message): INVALID_ARGUMENT: You must feed a value for placeholder tensor 'gradients/split_1_grad/concat/split_1/split_dim' with dtype int32\n",
      "\t [[{{node gradients/split_1_grad/concat/split_1/split_dim}}]]\n"
     ]
    },
    {
     "name": "stdout",
     "output_type": "stream",
     "text": [
      "667/667 [==============================] - 18s 21ms/step - loss: 84637.0156 - accuracy: 0.0000e+00 - val_loss: 24836.5742 - val_accuracy: 0.0000e+00\n",
      "Epoch 2/100\n",
      "667/667 [==============================] - 16s 24ms/step - loss: 84634.0078 - accuracy: 0.0000e+00 - val_loss: 24836.5723 - val_accuracy: 0.0000e+00\n",
      "Epoch 3/100\n",
      "667/667 [==============================] - 15s 22ms/step - loss: 84633.9766 - accuracy: 0.0000e+00 - val_loss: 24836.5723 - val_accuracy: 0.0000e+00\n",
      "Epoch 4/100\n",
      "667/667 [==============================] - 13s 20ms/step - loss: 84634.0078 - accuracy: 0.0000e+00 - val_loss: 24836.5723 - val_accuracy: 0.0000e+00\n",
      "Epoch 5/100\n",
      "667/667 [==============================] - 16s 24ms/step - loss: 84634.0312 - accuracy: 0.0000e+00 - val_loss: 24836.5723 - val_accuracy: 0.0000e+00\n"
     ]
    }
   ],
   "source": [
    "batch_size = 32\n",
    "epochs = 100\n",
    "early_stopping = EarlyStopping(monitor='val_loss', patience=3, restore_best_weights=True)\n",
    "\n",
    "history = model.fit(X_train_scaled, y_train, batch_size=batch_size, epochs=epochs, validation_split=0.2, callbacks=[early_stopping])"
   ]
  },
  {
   "cell_type": "code",
   "execution_count": 43,
   "metadata": {},
   "outputs": [
    {
     "name": "stderr",
     "output_type": "stream",
     "text": [
      "No artists with labels found to put in legend.  Note that artists whose label start with an underscore are ignored when legend() is called with no argument.\n"
     ]
    },
    {
     "data": {
      "image/png": "[encoded data removed]",
      "text/plain": [
       "<Figure size 1000x600 with 1 Axes>"
      ]
     },
     "metadata": {},
     "output_type": "display_data"
    }
   ],
   "source": [
    "plt.figure(figsize=(10, 6), dpi=100)\n",
    "plt.plot(history.history['loss'])\n",
    "plt.xlabel('epochs')\n",
    "plt.ylabel('loss')\n",
    "plt.legend()\n",
    "plt.show()"
   ]
  },
  {
   "cell_type": "code",
   "execution_count": 39,
   "metadata": {},
   "outputs": [
    {
     "name": "stdout",
     "output_type": "stream",
     "text": [
      "196/196 [==============================] - 9s 48ms/step - loss: 127798.3906 - accuracy: 0.0000e+00\n",
      "Test loss: 127798.3906\n",
      "Test accuracy: 0.0000\n"
     ]
    }
   ],
   "source": [
    "loss, accuracy = model.evaluate(X_test_scaled, y_test)\n",
    "print(f'Test loss: {loss:.4f}')\n",
    "print(f'Test accuracy: {accuracy:.4f}')"
   ]
  },
  {
   "cell_type": "markdown",
   "metadata": {},
   "source": [
    "## Model Predicting"
   ]
  },
  {
   "cell_type": "code",
   "execution_count": 17,
   "metadata": {},
   "outputs": [],
   "source": [
    "def plot_predictions(test,predicted):\n",
    "    plt.plot(test, color='red',label='Real')\n",
    "    plt.plot(predicted, color='blue',label='Predicted')\n",
    "    plt.title('Stock Price Prediction')\n",
    "    plt.xlabel('Time')\n",
    "    plt.ylabel('Stock Price')\n",
    "    plt.legend() \n",
    "    plt.show()\n",
    "\n",
    "def return_rmse(test,predicted):\n",
    "    rmse = math.sqrt(mean_squared_error(test, predicted))\n",
    "    print(\"The root mean squared error is {}.\".format(rmse))"
   ]
  },
  {
   "cell_type": "code",
   "execution_count": null,
   "metadata": {},
   "outputs": [],
   "source": []
  }
 ],
 "metadata": {
  "kernelspec": {
   "display_name": "InvestoInsight",
   "language": "python",
   "name": "python3"
  },
  "language_info": {
   "codemirror_mode": {
    "name": "ipython",
    "version": 3
   },
   "file_extension": ".py",
   "mimetype": "text/x-python",
   "name": "python",
   "nbconvert_exporter": "python",
   "pygments_lexer": "ipython3",
   "version": "3.10.6"
  },
  "orig_nbformat": 4
 },
 "nbformat": 4,
 "nbformat_minor": 2
}
